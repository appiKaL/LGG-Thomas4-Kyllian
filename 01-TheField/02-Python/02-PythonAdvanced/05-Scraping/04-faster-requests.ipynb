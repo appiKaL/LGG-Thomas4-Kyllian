{
 "cells": [
  {
   "cell_type": "markdown",
   "metadata": {},
   "source": [
    "# Make your requests faster\n",
    "\n",
    "When you start scraping web-pages or requesting APIs, you will be facing a problem when doing a lot of requests: this is really slow!\n",
    "\n",
    "It's because python is slow! You could say, well it should not be. Let's see how we can speed things up!\n",
    "\n",
    "## Measure performances\n",
    "\n",
    "In this notebook we will need to track how much time some code is taking to execute.\n",
    "To make things easier, we will create a simple decorator that will print the number of micro-seconds a function takes to execute.\n",
    "\n",
    "A good opportonity to practice decorators in a practical example!\n",
    "\n",
    "*Note that you need python3.3 or higher.*"
   ]
  },
  {
   "cell_type": "code",
   "execution_count": 1,
   "metadata": {},
   "outputs": [
    {
     "name": "stdout",
     "output_type": "stream",
     "text": [
      "example took 2.0 sec\n"
     ]
    }
   ],
   "source": [
    "import time\n",
    "\n",
    "def print_timing(func):\n",
    "    '''Create a timing decorator function use @print_timing just above the function you want to time.'''\n",
    "\n",
    "    def wrapper(*arg):\n",
    "        start = time.perf_counter()\n",
    "        \n",
    "        # Run the function decorated\n",
    "        result = func(*arg)\n",
    "\n",
    "        end = time.perf_counter()\n",
    "        execution_time = round((end - start), 2)\n",
    "        print(f'{func.__name__} took {execution_time} sec')\n",
    "        return result\n",
    "\n",
    "    return wrapper\n",
    "\n",
    "\n",
    "@print_timing\n",
    "def example():\n",
    "    time.sleep(2)\n",
    "\n",
    "\n",
    "example()"
   ]
  },
  {
   "cell_type": "markdown",
   "metadata": {},
   "source": [
    "## The API\n",
    "\n",
    "For this example, we will use the [quotable.io](https://api.quotable.io) API. It's an online API you can use to generate random quote.\n",
    "\n",
    "But feel free to replace `api_url` value with any API you'd like."
   ]
  },
  {
   "cell_type": "code",
   "execution_count": 2,
   "metadata": {},
   "outputs": [],
   "source": [
    "api_url = \"https://api.quotable.io/random\""
   ]
  },
  {
   "cell_type": "markdown",
   "metadata": {},
   "source": [
    "## The \"classic\" way\n",
    "\n",
    "If you start playing with requests, your should probably have something like this:"
   ]
  },
  {
   "cell_type": "code",
   "execution_count": 3,
   "metadata": {},
   "outputs": [
    {
     "name": "stdout",
     "output_type": "stream",
     "text": [
      "Reality does not conform to the ideal but confirms it.\n",
      "Think how hard physics would be if particles could think.\n",
      "Quick decisions are unsafe decisions.\n",
      "The greatest way to live with honor in this world is to be what we pretend to be.\n",
      "Choose a job you love, and you will never have to work a day in your life.\n",
      "Remember that the most valuable antiques are dear old friends.\n",
      "In the depth of winter, I finally learned that there was within me an invincible summer.\n",
      "Technology presumes there's just one right way to do things and there never is.\n",
      "What matters is the value we've created in our lives, the people we've made happy and how much we've grown as people.\n",
      "The road of excess leads to the palace of wisdom.\n",
      "Truth is generally the best vindication against slander.\n",
      "There is a wisdom of the head, and a wisdom of the heart.\n",
      "The friendship that can cease has never been real.\n",
      "The word philosophy sounds high-minded, but it simply means the love of wisdom. If you love something, you don't just read about it; you hug it, you mess with it, you play with it, you argue with it.\n",
      "I know that inner wisdom is more precious than wealth. The more you spend it, the more you gain.\n",
      "You are always free to change your mind and choose a different future, or a different past.\n",
      "I have learned that to be with those I like is enough.\n",
      "We could never learn to be brave and patient if there were only joy in the world.\n",
      "If you don't go after what you want, you'll never have it. If you don't ask, the answer is always no. If you don't step forward, you're always in the same place.\n",
      "To change one's life, start immediately, do it flamboyantly, no exceptions.\n",
      "Where there is charity and wisdom, there is neither fear nor ignorance.\n",
      "Friendship, like credit, is highest when it is not used.\n",
      "Things turn out best for those who make the best of the way things turn out.\n",
      "To go against the dominant thinking of your friends, of most of the people you see every day, is perhaps the most difficult act of heroism you can perform.\n",
      "When you come to the end of your rope, tie a knot and hang on.\n",
      "Joy is what happens to us when we allow ourselves to recognize how good things really are.\n",
      "Successful people ask better questions, and as a result, they get better answers.\n",
      "The awareness of our own strength makes us modest.\n",
      "I, too, do not envision a doctrine of self the clinging to which there would not arise sorrow, lamentation, pain, grief, and despair.\n",
      "The weak can never forgive. Forgiveness is the attribute of the strong.\n",
      "He who knows that enough is enough will always have enough.\n",
      "The only real mistake is the one from which we learn nothing.\n",
      "Bad things are not the worst things that can happen to us. Nothing is the worst thing that can happen to us!\n",
      "I don't need a friend who changes when I change and who nods when I nod; my shadow does that much better.\n",
      "The free man is he who does not fear to go to the end of his thought.\n",
      "Our strength grows out of our weaknesses.\n",
      "Commitment is an act, not a word.\n",
      "To be wronged is nothing unless you continue to remember it.\n",
      "Where there is love there is life.\n",
      "Life's most persistent and urgent question is, 'What are you doing for others?'\n",
      "The simplest things are often the truest.\n",
      "It always seems impossible until it's done.\n",
      "Those who dream by day are cognizant of many things which escape those who dream only by night.\n",
      "The way we communicate with others and with ourselves ultimately determines the quality of our lives.\n",
      "One friend in a lifetime is much; two are many; three are hardly possible. Friendship needs a certain parallelism of life, a community of thought, a rivalry of aim.\n",
      "Sincerity is the way of Heaven. The attainment of sincerity is the way of men.\n",
      "We should not give up and we should not allow the problem to defeat us.\n",
      "In order to win, you must expect to win.\n",
      "I will not be concerned at other men's not knowing me; I will be concerned at my own want of ability.\n",
      "The really unhappy person is the one who leaves undone what they can do, and starts doing what they don't understand; no wonder they come to grief.\n",
      "basic_loop_request took 17.47 sec\n"
     ]
    }
   ],
   "source": [
    "import requests\n",
    "\n",
    "\n",
    "def basic_request(url: str):\n",
    "    response = requests.get(url)\n",
    "    response_json = response.json()\n",
    "    print(response_json[\"content\"])\n",
    "\n",
    "\n",
    "@print_timing\n",
    "def basic_loop_request(url: str):\n",
    "    # Query 50 times the API\n",
    "    for _ in range(50):\n",
    "        basic_request(url)\n",
    "\n",
    "\n",
    "basic_loop_request(api_url)"
   ]
  },
  {
   "cell_type": "markdown",
   "metadata": {},
   "source": [
    "### Results\n",
    "\n",
    "On my machine it took **17.06 sec for 50 requests**. \n",
    "\n",
    "Pretty slow right? But why is that?\n",
    "\n",
    "Each time you make a request, your computer needs to create a new \"session\", format your request, send it and wait to receive the response before doing it again with the next request."
   ]
  },
  {
   "cell_type": "markdown",
   "metadata": {},
   "source": [
    "## The \"session\" way\n",
    "\n",
    "To speed this, we can use a **\"session\"** that will be share by all the requests.\n",
    "\n",
    "You can picture it as a postman that knows you already, so he knows which bell to ring, where is the mailbox,... Instead of having to search for those each time."
   ]
  },
  {
   "cell_type": "code",
   "execution_count": 4,
   "metadata": {},
   "outputs": [
    {
     "name": "stdout",
     "output_type": "stream",
     "text": [
      "Success consists of going from failure to failure without loss of enthusiasm.\n",
      "Many of life's failures are people who did not realize how close they were to success when they gave up.\n",
      "If you break your neck, if you have nothing to eat, if your house is on fire, then you got a problem. Everything else is inconvenience.\n",
      "What we think determines what happens to us, so if we want to change our lives, we need to stretch our minds.\n",
      "He who knows himself is enlightened.\n",
      "Never tell people how to do things. Tell them what to do and they will surprise you with their ingenuity.\n",
      "To bring anything into your life, imagine that it's already there.\n",
      "Arriving at one point is the starting point to another.\n",
      "I'm not afraid of storms, for I'm learning how to sail my ship.\n",
      "Beauty is not in the face; beauty is a light in the heart.\n",
      "A wise person should be urgently moved on occasions that make for urgency.\n",
      "It's better to be a lion for a day than a sheep all your life.\n",
      "Look back over the past, with its changing empires that rose and fell, and you can foresee the future, too.\n",
      "Silence is deep as Eternity; Speech is shallow as Time.\n",
      "That's the risk you take if you change: that people you've been involved with won't like the new you. But other people who do will come along.\n",
      "If you don't design your own life plan, chances are you'll fall into someone else's plan. And guess what they have planned for you? Not much.\n",
      "All I required to be happy was friendship and people I could admire.\n",
      "I have just three things to teach: simplicity, patience, compassion. These three are your greatest treasures.\n",
      "Love is like a friendship caught on fire. In the beginning a flame, very pretty, often hot and fierce, but still only light and flickering. As love grows older, our hearts mature and our love becomes as coals, deep-burning and unquenchable.\n",
      "Positive thinking will let you do everything better than negative thinking will.\n",
      "To know oneself is to study oneself in action with another person.\n",
      "If you were to offer a thirsty man all wisdom, you would not please him more than if you gave him a drink.\n",
      "We know the truth, not only by the reason, but by the heart.\n",
      "It is one of the severest tests of friendship to tell your friend his faults. So to love a man that you cannot bear to see a stain upon him, and to speak painful truth through loving words, that is friendship.\n",
      "The minute you settle for less than you deserve, you get even less than you settled for.\n",
      "Real success is finding your lifework in the work that you love.\n",
      "Never make friends with people who are above or below you in status. Such friendships will never give you any happiness.\n",
      "All this modern technology just makes people try to do everything at once.\n",
      "The lure of the distant and the difficult is deceptive. The great opportunity is where you are.\n",
      "The day of fortune is like a harvest day, we must be busy when the corn is ripe.\n",
      "Make it a rule of life never to regret and never to look back. Regret is an appalling waste of energy; you can't build on it; it's only for wallowing in.\n",
      "Independence is happiness.\n",
      "The more light you allow within you, the brighter the world you live in will be.\n",
      "Learning is the beginning of wealth. Learning is the beginning of health. Learning is the beginning of spirituality. Searching and learning is where the miracle process all begins.\n",
      "You may say I'm a dreamer, but I'm not the only one, I hope someday you will join us, and the world will live as one.\n",
      "If we learn to open our hearts, anyone, including the people who drive us crazy, can be our teacher.\n",
      "I have never been hurt by anything I didn't say.\n",
      "Only when we are no longer afraid do we begin to live.\n",
      "If you break your neck, if you have nothing to eat, if your house is on fire, then you got a problem. Everything else is inconvenience.\n",
      "Effort only fully releases its reward after a person refuses to quit.\n",
      "This is why I loved technology: if you used it right, it could give you power and privacy.\n",
      "Decision is a risk rooted in the courage of being free.\n",
      "To get the full value of joy you must have someone to divide it with.\n",
      "I believe that we are fundamentally the same and have the same basic potential.\n",
      "A quarrel between friends, when made up, adds a new tie to friendship.\n",
      "Life is like a sewer. What you get out of it depends on what you put into it.\n",
      "We do not quit playing because we grow old, we grow old because we quit playing.\n",
      "If you surrender to the wind, you can ride it.\n",
      "Start with what is right rather than what is acceptable.\n",
      "Keep your face always toward the sunshine - and shadows will fall behind you.\n",
      "session_loop_request took 5.75 sec\n"
     ]
    }
   ],
   "source": [
    "from requests import Session\n",
    "\n",
    "\n",
    "def session_request(url: str, session: Session):\n",
    "    # Instead of using request.get, we use our session\n",
    "    response = session.get(url)\n",
    "    response_json = response.json()\n",
    "    print(response_json[\"content\"])\n",
    "\n",
    "\n",
    "@print_timing\n",
    "def session_loop_request(url: str):\n",
    "    # Create shared session for all of your requests\n",
    "    with Session() as session:\n",
    "        # Query 50 times the API\n",
    "        for _ in range(50):\n",
    "            session_request(url, session)\n",
    "\n",
    "\n",
    "session_loop_request(api_url)"
   ]
  },
  {
   "cell_type": "markdown",
   "metadata": {},
   "source": [
    "### Results\n",
    "\n",
    "It took me **5.99 sec for 50 requests**. That's better!\n",
    "\n",
    "And as you can see, I didn't change that much in the code."
   ]
  },
  {
   "cell_type": "markdown",
   "metadata": {},
   "source": [
    "## The \"Async\" way\n",
    "\n",
    "If you need even more performances, you will need to use [AsyncIo](https://docs.python.org/3/library/asyncio.html).\n",
    "\n",
    "This is a library to allow you to run asynchronous code.\n",
    "\n",
    "Why is that more efficiant? Well, when you send a request you need to wait for the response. And during the waiting time, our computer does nothing.\n",
    "If you count all the time the computer is just \"waiting\" on 50 or more requests, you will be surprised to see that most of the computing time is just waiting for the server to respond.\n",
    "\n",
    "[AsyncIo](https://docs.python.org/3/library/asyncio.html) allow you to bypass that.\n",
    "\n",
    "But as always, it has a cost: complexity.\n",
    "\n",
    "Making your code async will complixify the code a lot and make the debugging not a pleasant experience. Also, you will go so fast that you could be banned by the server.\n",
    "\n",
    "My advice? Use it only if you need it.\n",
    "\n",
    "I will show you a simple example but you want to understand it better, I really advice you **[this video](https://www.youtube.com/watch?v=qAh5dDODJ5k)**!\n",
    "\n",
    "### Requirements\n",
    "In order to simplify a bit the code, I will use [httpx](https://www.python-httpx.org/) a python library that is working the same way as the `requests` module but with few helpers for async."
   ]
  },
  {
   "cell_type": "code",
   "execution_count": 8,
   "metadata": {},
   "outputs": [
    {
     "name": "stdout",
     "output_type": "stream",
     "text": [
      "\u001b[1;31merror\u001b[0m: \u001b[1mexternally-managed-environment\u001b[0m\n",
      "\n",
      "\u001b[31m×\u001b[0m This environment is externally managed\n",
      "\u001b[31m╰─>\u001b[0m To install Python packages system-wide, try apt install\n",
      "\u001b[31m   \u001b[0m python3-xyz, where xyz is the package you are trying to\n",
      "\u001b[31m   \u001b[0m install.\n",
      "\u001b[31m   \u001b[0m \n",
      "\u001b[31m   \u001b[0m If you wish to install a non-Debian-packaged Python package,\n",
      "\u001b[31m   \u001b[0m create a virtual environment using python3 -m venv path/to/venv.\n",
      "\u001b[31m   \u001b[0m Then use path/to/venv/bin/python and path/to/venv/bin/pip. Make\n",
      "\u001b[31m   \u001b[0m sure you have python3-full installed.\n",
      "\u001b[31m   \u001b[0m \n",
      "\u001b[31m   \u001b[0m If you wish to install a non-Debian packaged Python application,\n",
      "\u001b[31m   \u001b[0m it may be easiest to use pipx install xyz, which will manage a\n",
      "\u001b[31m   \u001b[0m virtual environment for you. Make sure you have pipx installed.\n",
      "\u001b[31m   \u001b[0m \n",
      "\u001b[31m   \u001b[0m See /usr/share/doc/python3.12/README.venv for more information.\n",
      "\n",
      "\u001b[1;35mnote\u001b[0m: If you believe this is a mistake, please contact your Python installation or OS distribution provider. You can override this, at the risk of breaking your Python installation or OS, by passing --break-system-packages.\n",
      "\u001b[1;36mhint\u001b[0m: See PEP 668 for the detailed specification.\n"
     ]
    }
   ],
   "source": [
    "!pip install httpx"
   ]
  },
  {
   "cell_type": "markdown",
   "metadata": {},
   "source": [
    "### Warning!\n",
    "This code won't work in jupyter notebook, there are subtilities for async in jupyter notebook. See [this thread](https://stackoverflow.com/questions/47518874/how-do-i-run-python-asyncio-code-in-a-jupyter-notebook) for more informations.\n",
    "\n",
    "To make it simpler, I will put this code in a .py file and run it in command line:"
   ]
  },
  {
   "cell_type": "markdown",
   "metadata": {},
   "source": [
    "```python\n",
    "from httpx import AsyncClient\n",
    "import asyncio\n",
    "import time\n",
    "\n",
    "\n",
    "api_url = \"https://api.quotable.io/random\"\n",
    "\n",
    "\n",
    "async def session_request_async(url: str, session: AsyncClient):\n",
    "    # Instead of using request.get, we use our session\n",
    "    response = await session.get(url)\n",
    "    response_json = response.json()\n",
    "    print(response_json[\"content\"])\n",
    "    return response_json\n",
    "\n",
    "\n",
    "async def session_loop_request_async(url: str):\n",
    "    # Create shared session for all of your requests\n",
    "    async with AsyncClient() as session:\n",
    "        # Create a list of empty tasks\n",
    "        tasks = []\n",
    "        # Query 50 times the API\n",
    "        for _ in range(50):\n",
    "            # Add a request to tasks\n",
    "            tasks.append(\n",
    "                asyncio.create_task(\n",
    "                    session_request_async(url, session)        \n",
    "                )\n",
    "            )\n",
    "        # Now that all the tasks are registred, run them\n",
    "        responses = await asyncio.gather(*tasks)\n",
    "            \n",
    "            \n",
    "\n",
    "\n",
    "start = time.perf_counter()\n",
    "\n",
    "# We need to use asyncio.run to run the async function\n",
    "asyncio.run(session_loop_request_async(api_url))\n",
    "\n",
    "end = time.perf_counter()\n",
    "execution_time = round((end - start), 2)\n",
    "print(f'session_loop_request_async took {execution_time} sec')\n",
    "```"
   ]
  },
  {
   "cell_type": "code",
   "execution_count": 10,
   "metadata": {},
   "outputs": [
    {
     "name": "stdout",
     "output_type": "stream",
     "text": [
      "Traceback (most recent call last):\n",
      "  File \"/home/appikal/LGG-Thomas4-Kyllian/01-TheField/02-Python/02-PythonAdvanced/05-Scraping/./assets/async_requests.py\", line 1, in <module>\n",
      "    from httpx import AsyncClient\n",
      "ModuleNotFoundError: No module named 'httpx'\n"
     ]
    }
   ],
   "source": [
    "!python3 ./assets/async_requests.py"
   ]
  },
  {
   "cell_type": "markdown",
   "metadata": {},
   "source": [
    "### Results\n",
    "It only took me **0.8 sec for 50 requests**! That's impressive.\n",
    "\n",
    "But as you can see, it is harder to write, structure and debug. So make sure you **really** need it if you consider using this method."
   ]
  },
  {
   "cell_type": "markdown",
   "metadata": {},
   "source": [
    "## Summary\n",
    "\n",
    "If we gather all our results:\n",
    "\n",
    "| Method                     | Execution time for 50 requests |\n",
    "|----------------------------|--------------------------------|\n",
    "| `requests.get` loop        | 17.06 sec                  |\n",
    "| `requests` with `Session`  | 5.99 sec                   |\n",
    "| `httpx` with `AsyncClient` | 0.8 sec                   |"
   ]
  },
  {
   "cell_type": "markdown",
   "metadata": {},
   "source": []
  }
 ],
 "metadata": {
  "kernelspec": {
   "display_name": "Python 3.10.5 64-bit",
   "language": "python",
   "name": "python3"
  },
  "language_info": {
   "codemirror_mode": {
    "name": "ipython",
    "version": 3
   },
   "file_extension": ".py",
   "mimetype": "text/x-python",
   "name": "python",
   "nbconvert_exporter": "python",
   "pygments_lexer": "ipython3",
   "version": "3.12.3"
  },
  "orig_nbformat": 4,
  "vscode": {
   "interpreter": {
    "hash": "b460384b52104c1e5b9cf54bee46a255d22b2bef338f75ac4ad5d48196028d3c"
   }
  }
 },
 "nbformat": 4,
 "nbformat_minor": 2
}
